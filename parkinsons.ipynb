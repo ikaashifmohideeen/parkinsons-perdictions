{
  "nbformat": 4,
  "nbformat_minor": 0,
  "metadata": {
    "colab": {
      "name": "ca4.ipynb",
      "provenance": []
    },
    "kernelspec": {
      "name": "python3",
      "display_name": "Python 3"
    },
    "language_info": {
      "name": "python"
    }
  },
  "cells": [
    {
      "cell_type": "code",
      "metadata": {
        "id": "_YPCq5xGkl9P"
      },
      "source": [
        "#happy coading"
      ],
      "execution_count": 210,
      "outputs": []
    },
    {
      "cell_type": "code",
      "metadata": {
        "id": "uX1wTG7qk2T6"
      },
      "source": [
        "import pandas as pd\n",
        "import numpy as np\n",
        "import matplotlib.pyplot as plt\n"
      ],
      "execution_count": 211,
      "outputs": []
    },
    {
      "cell_type": "code",
      "metadata": {
        "id": "PxhZLK-2lQn5"
      },
      "source": [
        "from pandas_profiling import profile_report"
      ],
      "execution_count": 212,
      "outputs": []
    },
    {
      "cell_type": "code",
      "metadata": {
        "id": "5HyVHkhemXyi"
      },
      "source": [
        "data = pd.read_csv('Parkinsson disease.csv')"
      ],
      "execution_count": 213,
      "outputs": []
    },
    {
      "cell_type": "code",
      "metadata": {
        "colab": {
          "base_uri": "https://localhost:8080/",
          "height": 226
        },
        "id": "y6EQnlgknj2F",
        "outputId": "d653638c-3ac4-4f43-89f9-578bece88b61"
      },
      "source": [
        "data.head()"
      ],
      "execution_count": 214,
      "outputs": [
        {
          "output_type": "execute_result",
          "data": {
            "text/html": [
              "<div>\n",
              "<style scoped>\n",
              "    .dataframe tbody tr th:only-of-type {\n",
              "        vertical-align: middle;\n",
              "    }\n",
              "\n",
              "    .dataframe tbody tr th {\n",
              "        vertical-align: top;\n",
              "    }\n",
              "\n",
              "    .dataframe thead th {\n",
              "        text-align: right;\n",
              "    }\n",
              "</style>\n",
              "<table border=\"1\" class=\"dataframe\">\n",
              "  <thead>\n",
              "    <tr style=\"text-align: right;\">\n",
              "      <th></th>\n",
              "      <th>name</th>\n",
              "      <th>MDVP:Fo(Hz)</th>\n",
              "      <th>MDVP:Fhi(Hz)</th>\n",
              "      <th>MDVP:Flo(Hz)</th>\n",
              "      <th>MDVP:Jitter(%)</th>\n",
              "      <th>MDVP:Jitter(Abs)</th>\n",
              "      <th>MDVP:RAP</th>\n",
              "      <th>MDVP:PPQ</th>\n",
              "      <th>Jitter:DDP</th>\n",
              "      <th>MDVP:Shimmer</th>\n",
              "      <th>MDVP:Shimmer(dB)</th>\n",
              "      <th>Shimmer:APQ3</th>\n",
              "      <th>Shimmer:APQ5</th>\n",
              "      <th>MDVP:APQ</th>\n",
              "      <th>Shimmer:DDA</th>\n",
              "      <th>NHR</th>\n",
              "      <th>HNR</th>\n",
              "      <th>status</th>\n",
              "      <th>RPDE</th>\n",
              "      <th>DFA</th>\n",
              "      <th>spread1</th>\n",
              "      <th>spread2</th>\n",
              "      <th>D2</th>\n",
              "      <th>PPE</th>\n",
              "    </tr>\n",
              "  </thead>\n",
              "  <tbody>\n",
              "    <tr>\n",
              "      <th>0</th>\n",
              "      <td>phon_R01_S01_1</td>\n",
              "      <td>119.992</td>\n",
              "      <td>157.302</td>\n",
              "      <td>74.997</td>\n",
              "      <td>0.00784</td>\n",
              "      <td>0.00007</td>\n",
              "      <td>0.00370</td>\n",
              "      <td>0.00554</td>\n",
              "      <td>0.01109</td>\n",
              "      <td>0.04374</td>\n",
              "      <td>0.426</td>\n",
              "      <td>0.02182</td>\n",
              "      <td>0.03130</td>\n",
              "      <td>0.02971</td>\n",
              "      <td>0.06545</td>\n",
              "      <td>0.02211</td>\n",
              "      <td>21.033</td>\n",
              "      <td>1</td>\n",
              "      <td>0.414783</td>\n",
              "      <td>0.815285</td>\n",
              "      <td>-4.813031</td>\n",
              "      <td>0.266482</td>\n",
              "      <td>2.301442</td>\n",
              "      <td>0.284654</td>\n",
              "    </tr>\n",
              "    <tr>\n",
              "      <th>1</th>\n",
              "      <td>phon_R01_S01_2</td>\n",
              "      <td>122.400</td>\n",
              "      <td>148.650</td>\n",
              "      <td>113.819</td>\n",
              "      <td>0.00968</td>\n",
              "      <td>0.00008</td>\n",
              "      <td>0.00465</td>\n",
              "      <td>0.00696</td>\n",
              "      <td>0.01394</td>\n",
              "      <td>0.06134</td>\n",
              "      <td>0.626</td>\n",
              "      <td>0.03134</td>\n",
              "      <td>0.04518</td>\n",
              "      <td>0.04368</td>\n",
              "      <td>0.09403</td>\n",
              "      <td>0.01929</td>\n",
              "      <td>19.085</td>\n",
              "      <td>1</td>\n",
              "      <td>0.458359</td>\n",
              "      <td>0.819521</td>\n",
              "      <td>-4.075192</td>\n",
              "      <td>0.335590</td>\n",
              "      <td>2.486855</td>\n",
              "      <td>0.368674</td>\n",
              "    </tr>\n",
              "    <tr>\n",
              "      <th>2</th>\n",
              "      <td>phon_R01_S01_3</td>\n",
              "      <td>116.682</td>\n",
              "      <td>131.111</td>\n",
              "      <td>111.555</td>\n",
              "      <td>0.01050</td>\n",
              "      <td>0.00009</td>\n",
              "      <td>0.00544</td>\n",
              "      <td>0.00781</td>\n",
              "      <td>0.01633</td>\n",
              "      <td>0.05233</td>\n",
              "      <td>0.482</td>\n",
              "      <td>0.02757</td>\n",
              "      <td>0.03858</td>\n",
              "      <td>0.03590</td>\n",
              "      <td>0.08270</td>\n",
              "      <td>0.01309</td>\n",
              "      <td>20.651</td>\n",
              "      <td>1</td>\n",
              "      <td>0.429895</td>\n",
              "      <td>0.825288</td>\n",
              "      <td>-4.443179</td>\n",
              "      <td>0.311173</td>\n",
              "      <td>2.342259</td>\n",
              "      <td>0.332634</td>\n",
              "    </tr>\n",
              "    <tr>\n",
              "      <th>3</th>\n",
              "      <td>phon_R01_S01_4</td>\n",
              "      <td>116.676</td>\n",
              "      <td>137.871</td>\n",
              "      <td>111.366</td>\n",
              "      <td>0.00997</td>\n",
              "      <td>0.00009</td>\n",
              "      <td>0.00502</td>\n",
              "      <td>0.00698</td>\n",
              "      <td>0.01505</td>\n",
              "      <td>0.05492</td>\n",
              "      <td>0.517</td>\n",
              "      <td>0.02924</td>\n",
              "      <td>0.04005</td>\n",
              "      <td>0.03772</td>\n",
              "      <td>0.08771</td>\n",
              "      <td>0.01353</td>\n",
              "      <td>20.644</td>\n",
              "      <td>1</td>\n",
              "      <td>0.434969</td>\n",
              "      <td>0.819235</td>\n",
              "      <td>-4.117501</td>\n",
              "      <td>0.334147</td>\n",
              "      <td>2.405554</td>\n",
              "      <td>0.368975</td>\n",
              "    </tr>\n",
              "    <tr>\n",
              "      <th>4</th>\n",
              "      <td>phon_R01_S01_5</td>\n",
              "      <td>116.014</td>\n",
              "      <td>141.781</td>\n",
              "      <td>110.655</td>\n",
              "      <td>0.01284</td>\n",
              "      <td>0.00011</td>\n",
              "      <td>0.00655</td>\n",
              "      <td>0.00908</td>\n",
              "      <td>0.01966</td>\n",
              "      <td>0.06425</td>\n",
              "      <td>0.584</td>\n",
              "      <td>0.03490</td>\n",
              "      <td>0.04825</td>\n",
              "      <td>0.04465</td>\n",
              "      <td>0.10470</td>\n",
              "      <td>0.01767</td>\n",
              "      <td>19.649</td>\n",
              "      <td>1</td>\n",
              "      <td>0.417356</td>\n",
              "      <td>0.823484</td>\n",
              "      <td>-3.747787</td>\n",
              "      <td>0.234513</td>\n",
              "      <td>2.332180</td>\n",
              "      <td>0.410335</td>\n",
              "    </tr>\n",
              "  </tbody>\n",
              "</table>\n",
              "</div>"
            ],
            "text/plain": [
              "             name  MDVP:Fo(Hz)  MDVP:Fhi(Hz)  ...   spread2        D2       PPE\n",
              "0  phon_R01_S01_1      119.992       157.302  ...  0.266482  2.301442  0.284654\n",
              "1  phon_R01_S01_2      122.400       148.650  ...  0.335590  2.486855  0.368674\n",
              "2  phon_R01_S01_3      116.682       131.111  ...  0.311173  2.342259  0.332634\n",
              "3  phon_R01_S01_4      116.676       137.871  ...  0.334147  2.405554  0.368975\n",
              "4  phon_R01_S01_5      116.014       141.781  ...  0.234513  2.332180  0.410335\n",
              "\n",
              "[5 rows x 24 columns]"
            ]
          },
          "metadata": {},
          "execution_count": 214
        }
      ]
    },
    {
      "cell_type": "code",
      "metadata": {
        "colab": {
          "base_uri": "https://localhost:8080/"
        },
        "id": "2mjFO442npF5",
        "outputId": "b21b58db-dc78-45ee-e391-5f8fdd4f0148"
      },
      "source": [
        "data.isna().any()"
      ],
      "execution_count": 215,
      "outputs": [
        {
          "output_type": "execute_result",
          "data": {
            "text/plain": [
              "name                False\n",
              "MDVP:Fo(Hz)         False\n",
              "MDVP:Fhi(Hz)        False\n",
              "MDVP:Flo(Hz)        False\n",
              "MDVP:Jitter(%)      False\n",
              "MDVP:Jitter(Abs)    False\n",
              "MDVP:RAP            False\n",
              "MDVP:PPQ            False\n",
              "Jitter:DDP          False\n",
              "MDVP:Shimmer        False\n",
              "MDVP:Shimmer(dB)    False\n",
              "Shimmer:APQ3        False\n",
              "Shimmer:APQ5        False\n",
              "MDVP:APQ            False\n",
              "Shimmer:DDA         False\n",
              "NHR                 False\n",
              "HNR                 False\n",
              "status              False\n",
              "RPDE                False\n",
              "DFA                 False\n",
              "spread1             False\n",
              "spread2             False\n",
              "D2                  False\n",
              "PPE                 False\n",
              "dtype: bool"
            ]
          },
          "metadata": {},
          "execution_count": 215
        }
      ]
    },
    {
      "cell_type": "code",
      "metadata": {
        "id": "J35ME863ntnC"
      },
      "source": [
        "dataset = data\n",
        "y = data['status']\n",
        "X = data.drop('status',axis=1).iloc[:,2:]"
      ],
      "execution_count": 216,
      "outputs": []
    },
    {
      "cell_type": "code",
      "metadata": {
        "colab": {
          "base_uri": "https://localhost:8080/",
          "height": 226
        },
        "id": "xsAmynd-oISq",
        "outputId": "a5c67dbc-d27d-469a-83a3-ffd058e0b07c"
      },
      "source": [
        "X.head()"
      ],
      "execution_count": 217,
      "outputs": [
        {
          "output_type": "execute_result",
          "data": {
            "text/html": [
              "<div>\n",
              "<style scoped>\n",
              "    .dataframe tbody tr th:only-of-type {\n",
              "        vertical-align: middle;\n",
              "    }\n",
              "\n",
              "    .dataframe tbody tr th {\n",
              "        vertical-align: top;\n",
              "    }\n",
              "\n",
              "    .dataframe thead th {\n",
              "        text-align: right;\n",
              "    }\n",
              "</style>\n",
              "<table border=\"1\" class=\"dataframe\">\n",
              "  <thead>\n",
              "    <tr style=\"text-align: right;\">\n",
              "      <th></th>\n",
              "      <th>MDVP:Fhi(Hz)</th>\n",
              "      <th>MDVP:Flo(Hz)</th>\n",
              "      <th>MDVP:Jitter(%)</th>\n",
              "      <th>MDVP:Jitter(Abs)</th>\n",
              "      <th>MDVP:RAP</th>\n",
              "      <th>MDVP:PPQ</th>\n",
              "      <th>Jitter:DDP</th>\n",
              "      <th>MDVP:Shimmer</th>\n",
              "      <th>MDVP:Shimmer(dB)</th>\n",
              "      <th>Shimmer:APQ3</th>\n",
              "      <th>Shimmer:APQ5</th>\n",
              "      <th>MDVP:APQ</th>\n",
              "      <th>Shimmer:DDA</th>\n",
              "      <th>NHR</th>\n",
              "      <th>HNR</th>\n",
              "      <th>RPDE</th>\n",
              "      <th>DFA</th>\n",
              "      <th>spread1</th>\n",
              "      <th>spread2</th>\n",
              "      <th>D2</th>\n",
              "      <th>PPE</th>\n",
              "    </tr>\n",
              "  </thead>\n",
              "  <tbody>\n",
              "    <tr>\n",
              "      <th>0</th>\n",
              "      <td>157.302</td>\n",
              "      <td>74.997</td>\n",
              "      <td>0.00784</td>\n",
              "      <td>0.00007</td>\n",
              "      <td>0.00370</td>\n",
              "      <td>0.00554</td>\n",
              "      <td>0.01109</td>\n",
              "      <td>0.04374</td>\n",
              "      <td>0.426</td>\n",
              "      <td>0.02182</td>\n",
              "      <td>0.03130</td>\n",
              "      <td>0.02971</td>\n",
              "      <td>0.06545</td>\n",
              "      <td>0.02211</td>\n",
              "      <td>21.033</td>\n",
              "      <td>0.414783</td>\n",
              "      <td>0.815285</td>\n",
              "      <td>-4.813031</td>\n",
              "      <td>0.266482</td>\n",
              "      <td>2.301442</td>\n",
              "      <td>0.284654</td>\n",
              "    </tr>\n",
              "    <tr>\n",
              "      <th>1</th>\n",
              "      <td>148.650</td>\n",
              "      <td>113.819</td>\n",
              "      <td>0.00968</td>\n",
              "      <td>0.00008</td>\n",
              "      <td>0.00465</td>\n",
              "      <td>0.00696</td>\n",
              "      <td>0.01394</td>\n",
              "      <td>0.06134</td>\n",
              "      <td>0.626</td>\n",
              "      <td>0.03134</td>\n",
              "      <td>0.04518</td>\n",
              "      <td>0.04368</td>\n",
              "      <td>0.09403</td>\n",
              "      <td>0.01929</td>\n",
              "      <td>19.085</td>\n",
              "      <td>0.458359</td>\n",
              "      <td>0.819521</td>\n",
              "      <td>-4.075192</td>\n",
              "      <td>0.335590</td>\n",
              "      <td>2.486855</td>\n",
              "      <td>0.368674</td>\n",
              "    </tr>\n",
              "    <tr>\n",
              "      <th>2</th>\n",
              "      <td>131.111</td>\n",
              "      <td>111.555</td>\n",
              "      <td>0.01050</td>\n",
              "      <td>0.00009</td>\n",
              "      <td>0.00544</td>\n",
              "      <td>0.00781</td>\n",
              "      <td>0.01633</td>\n",
              "      <td>0.05233</td>\n",
              "      <td>0.482</td>\n",
              "      <td>0.02757</td>\n",
              "      <td>0.03858</td>\n",
              "      <td>0.03590</td>\n",
              "      <td>0.08270</td>\n",
              "      <td>0.01309</td>\n",
              "      <td>20.651</td>\n",
              "      <td>0.429895</td>\n",
              "      <td>0.825288</td>\n",
              "      <td>-4.443179</td>\n",
              "      <td>0.311173</td>\n",
              "      <td>2.342259</td>\n",
              "      <td>0.332634</td>\n",
              "    </tr>\n",
              "    <tr>\n",
              "      <th>3</th>\n",
              "      <td>137.871</td>\n",
              "      <td>111.366</td>\n",
              "      <td>0.00997</td>\n",
              "      <td>0.00009</td>\n",
              "      <td>0.00502</td>\n",
              "      <td>0.00698</td>\n",
              "      <td>0.01505</td>\n",
              "      <td>0.05492</td>\n",
              "      <td>0.517</td>\n",
              "      <td>0.02924</td>\n",
              "      <td>0.04005</td>\n",
              "      <td>0.03772</td>\n",
              "      <td>0.08771</td>\n",
              "      <td>0.01353</td>\n",
              "      <td>20.644</td>\n",
              "      <td>0.434969</td>\n",
              "      <td>0.819235</td>\n",
              "      <td>-4.117501</td>\n",
              "      <td>0.334147</td>\n",
              "      <td>2.405554</td>\n",
              "      <td>0.368975</td>\n",
              "    </tr>\n",
              "    <tr>\n",
              "      <th>4</th>\n",
              "      <td>141.781</td>\n",
              "      <td>110.655</td>\n",
              "      <td>0.01284</td>\n",
              "      <td>0.00011</td>\n",
              "      <td>0.00655</td>\n",
              "      <td>0.00908</td>\n",
              "      <td>0.01966</td>\n",
              "      <td>0.06425</td>\n",
              "      <td>0.584</td>\n",
              "      <td>0.03490</td>\n",
              "      <td>0.04825</td>\n",
              "      <td>0.04465</td>\n",
              "      <td>0.10470</td>\n",
              "      <td>0.01767</td>\n",
              "      <td>19.649</td>\n",
              "      <td>0.417356</td>\n",
              "      <td>0.823484</td>\n",
              "      <td>-3.747787</td>\n",
              "      <td>0.234513</td>\n",
              "      <td>2.332180</td>\n",
              "      <td>0.410335</td>\n",
              "    </tr>\n",
              "  </tbody>\n",
              "</table>\n",
              "</div>"
            ],
            "text/plain": [
              "   MDVP:Fhi(Hz)  MDVP:Flo(Hz)  MDVP:Jitter(%)  ...   spread2        D2       PPE\n",
              "0       157.302        74.997         0.00784  ...  0.266482  2.301442  0.284654\n",
              "1       148.650       113.819         0.00968  ...  0.335590  2.486855  0.368674\n",
              "2       131.111       111.555         0.01050  ...  0.311173  2.342259  0.332634\n",
              "3       137.871       111.366         0.00997  ...  0.334147  2.405554  0.368975\n",
              "4       141.781       110.655         0.01284  ...  0.234513  2.332180  0.410335\n",
              "\n",
              "[5 rows x 21 columns]"
            ]
          },
          "metadata": {},
          "execution_count": 217
        }
      ]
    },
    {
      "cell_type": "code",
      "metadata": {
        "id": "YiqPVPvvoTfr"
      },
      "source": [
        "from sklearn.preprocessing import StandardScaler\n",
        "sc = StandardScaler()\n",
        "X = sc.fit_transform(X)"
      ],
      "execution_count": 218,
      "outputs": []
    },
    {
      "cell_type": "markdown",
      "metadata": {
        "id": "N_oT3ml5q0rp"
      },
      "source": [
        "# Dimensionality Reduction"
      ]
    },
    {
      "cell_type": "code",
      "metadata": {
        "id": "5gYuY9VPqVAb"
      },
      "source": [
        " from sklearn.decomposition import PCA\n",
        " pca = PCA(n_components=7)\n",
        " X = pca.fit_transform(X)"
      ],
      "execution_count": 219,
      "outputs": []
    },
    {
      "cell_type": "markdown",
      "metadata": {
        "id": "IqrI44xYrmsL"
      },
      "source": [
        "### Total variance covered in the pca"
      ]
    },
    {
      "cell_type": "code",
      "metadata": {
        "colab": {
          "base_uri": "https://localhost:8080/"
        },
        "id": "0UrStxCwrNa_",
        "outputId": "799afad6-3f56-43f5-d6a8-ab0440923776"
      },
      "source": [
        "pca.explained_variance_ratio_.sum()"
      ],
      "execution_count": 220,
      "outputs": [
        {
          "output_type": "execute_result",
          "data": {
            "text/plain": [
              "0.947878835378674"
            ]
          },
          "metadata": {},
          "execution_count": 220
        }
      ]
    },
    {
      "cell_type": "code",
      "metadata": {
        "colab": {
          "base_uri": "https://localhost:8080/",
          "height": 206
        },
        "id": "Wb3ZNusrs_hI",
        "outputId": "56b3270b-ff10-4618-f576-cc00fad916ed"
      },
      "source": [
        "pd.DataFrame(X).head()"
      ],
      "execution_count": 221,
      "outputs": [
        {
          "output_type": "execute_result",
          "data": {
            "text/html": [
              "<div>\n",
              "<style scoped>\n",
              "    .dataframe tbody tr th:only-of-type {\n",
              "        vertical-align: middle;\n",
              "    }\n",
              "\n",
              "    .dataframe tbody tr th {\n",
              "        vertical-align: top;\n",
              "    }\n",
              "\n",
              "    .dataframe thead th {\n",
              "        text-align: right;\n",
              "    }\n",
              "</style>\n",
              "<table border=\"1\" class=\"dataframe\">\n",
              "  <thead>\n",
              "    <tr style=\"text-align: right;\">\n",
              "      <th></th>\n",
              "      <th>0</th>\n",
              "      <th>1</th>\n",
              "      <th>2</th>\n",
              "      <th>3</th>\n",
              "      <th>4</th>\n",
              "      <th>5</th>\n",
              "      <th>6</th>\n",
              "    </tr>\n",
              "  </thead>\n",
              "  <tbody>\n",
              "    <tr>\n",
              "      <th>0</th>\n",
              "      <td>2.048121</td>\n",
              "      <td>-1.130448</td>\n",
              "      <td>-1.695405</td>\n",
              "      <td>-0.322770</td>\n",
              "      <td>0.660704</td>\n",
              "      <td>1.184570</td>\n",
              "      <td>-0.533725</td>\n",
              "    </tr>\n",
              "    <tr>\n",
              "      <th>1</th>\n",
              "      <td>4.669619</td>\n",
              "      <td>-1.382150</td>\n",
              "      <td>-2.169723</td>\n",
              "      <td>0.834141</td>\n",
              "      <td>1.185343</td>\n",
              "      <td>0.711668</td>\n",
              "      <td>0.104233</td>\n",
              "    </tr>\n",
              "    <tr>\n",
              "      <th>2</th>\n",
              "      <td>3.803242</td>\n",
              "      <td>-0.977534</td>\n",
              "      <td>-2.338794</td>\n",
              "      <td>-0.329636</td>\n",
              "      <td>1.161706</td>\n",
              "      <td>0.588434</td>\n",
              "      <td>-0.045230</td>\n",
              "    </tr>\n",
              "    <tr>\n",
              "      <th>3</th>\n",
              "      <td>4.085345</td>\n",
              "      <td>-1.338717</td>\n",
              "      <td>-2.145733</td>\n",
              "      <td>0.034313</td>\n",
              "      <td>1.325369</td>\n",
              "      <td>0.612892</td>\n",
              "      <td>0.018515</td>\n",
              "    </tr>\n",
              "    <tr>\n",
              "      <th>4</th>\n",
              "      <td>5.642920</td>\n",
              "      <td>-0.582839</td>\n",
              "      <td>-2.890319</td>\n",
              "      <td>-0.306547</td>\n",
              "      <td>0.769975</td>\n",
              "      <td>1.019580</td>\n",
              "      <td>-0.102436</td>\n",
              "    </tr>\n",
              "  </tbody>\n",
              "</table>\n",
              "</div>"
            ],
            "text/plain": [
              "          0         1         2         3         4         5         6\n",
              "0  2.048121 -1.130448 -1.695405 -0.322770  0.660704  1.184570 -0.533725\n",
              "1  4.669619 -1.382150 -2.169723  0.834141  1.185343  0.711668  0.104233\n",
              "2  3.803242 -0.977534 -2.338794 -0.329636  1.161706  0.588434 -0.045230\n",
              "3  4.085345 -1.338717 -2.145733  0.034313  1.325369  0.612892  0.018515\n",
              "4  5.642920 -0.582839 -2.890319 -0.306547  0.769975  1.019580 -0.102436"
            ]
          },
          "metadata": {},
          "execution_count": 221
        }
      ]
    },
    {
      "cell_type": "code",
      "metadata": {
        "id": "odEORXCQtHLv"
      },
      "source": [
        ""
      ],
      "execution_count": 221,
      "outputs": []
    },
    {
      "cell_type": "markdown",
      "metadata": {
        "id": "tLGL2mLatQF1"
      },
      "source": [
        "# Model Building"
      ]
    },
    {
      "cell_type": "markdown",
      "metadata": {
        "id": "s1rr9DcCvCq2"
      },
      "source": [
        "### Logistic Regression"
      ]
    },
    {
      "cell_type": "code",
      "metadata": {
        "id": "TvGuDp47tTL4"
      },
      "source": [
        "from sklearn.model_selection import train_test_split\n",
        "from sklearn.metrics import confusion_matrix, accuracy_score\n",
        "x_train, x_test, y_train, y_test= train_test_split(X, y, test_size= 0.20, random_state=50)  "
      ],
      "execution_count": 222,
      "outputs": []
    },
    {
      "cell_type": "code",
      "metadata": {
        "colab": {
          "base_uri": "https://localhost:8080/"
        },
        "id": "ZL5eS_HjutP7",
        "outputId": "cf32d5e5-2b90-401a-9fe9-ab9c3f80bec0"
      },
      "source": [
        "from sklearn.linear_model import LogisticRegression  \n",
        "clf_log = LogisticRegression() \n",
        "clf_log.fit(x_train, y_train)"
      ],
      "execution_count": 223,
      "outputs": [
        {
          "output_type": "execute_result",
          "data": {
            "text/plain": [
              "LogisticRegression(C=1.0, class_weight=None, dual=False, fit_intercept=True,\n",
              "                   intercept_scaling=1, l1_ratio=None, max_iter=100,\n",
              "                   multi_class='auto', n_jobs=None, penalty='l2',\n",
              "                   random_state=None, solver='lbfgs', tol=0.0001, verbose=0,\n",
              "                   warm_start=False)"
            ]
          },
          "metadata": {},
          "execution_count": 223
        }
      ]
    },
    {
      "cell_type": "code",
      "metadata": {
        "id": "xv5ox8lmvRKp"
      },
      "source": [
        "logistic_pred = clf_log.predict(x_test)"
      ],
      "execution_count": 224,
      "outputs": []
    },
    {
      "cell_type": "code",
      "metadata": {
        "colab": {
          "base_uri": "https://localhost:8080/"
        },
        "id": "76XccbOyvr7T",
        "outputId": "b4507744-2309-4345-df05-62721042a78c"
      },
      "source": [
        "arr=[]\n",
        "print(f'Confusion matrix \\n {confusion_matrix(y_test,logistic_pred)}')\n",
        "print('\\n \\n')\n",
        "print(f'Accuracy score \\n {accuracy_score(y_test,logistic_pred)}')\n",
        "arr.append(accuracy_score(y_test,logistic_pred))"
      ],
      "execution_count": 225,
      "outputs": [
        {
          "output_type": "stream",
          "name": "stdout",
          "text": [
            "Confusion matrix \n",
            " [[ 6  5]\n",
            " [ 2 26]]\n",
            "\n",
            " \n",
            "\n",
            "Accuracy score \n",
            " 0.8205128205128205\n"
          ]
        }
      ]
    },
    {
      "cell_type": "markdown",
      "metadata": {
        "id": "i1qYZZKTwTji"
      },
      "source": [
        "### Disicion tree"
      ]
    },
    {
      "cell_type": "code",
      "metadata": {
        "id": "TO74SnALwgTx"
      },
      "source": [
        "from sklearn.tree import DecisionTreeClassifier"
      ],
      "execution_count": 226,
      "outputs": []
    },
    {
      "cell_type": "code",
      "metadata": {
        "colab": {
          "base_uri": "https://localhost:8080/"
        },
        "id": "w9uIFfiqx8gW",
        "outputId": "5576af6d-7da4-47f5-9245-ea2a6e9436c7"
      },
      "source": [
        "tree_clf = DecisionTreeClassifier()\n",
        "tree_clf.fit(x_train,y_train)"
      ],
      "execution_count": 227,
      "outputs": [
        {
          "output_type": "execute_result",
          "data": {
            "text/plain": [
              "DecisionTreeClassifier(ccp_alpha=0.0, class_weight=None, criterion='gini',\n",
              "                       max_depth=None, max_features=None, max_leaf_nodes=None,\n",
              "                       min_impurity_decrease=0.0, min_impurity_split=None,\n",
              "                       min_samples_leaf=1, min_samples_split=2,\n",
              "                       min_weight_fraction_leaf=0.0, presort='deprecated',\n",
              "                       random_state=None, splitter='best')"
            ]
          },
          "metadata": {},
          "execution_count": 227
        }
      ]
    },
    {
      "cell_type": "code",
      "metadata": {
        "colab": {
          "base_uri": "https://localhost:8080/"
        },
        "id": "GHCGGzDpyOSZ",
        "outputId": "c3857d18-ef7a-4de8-c0a1-bb4696917954"
      },
      "source": [
        "tree_pred = tree_clf.predict(x_test)\n",
        "print(f'Confusion matrix \\n {confusion_matrix(y_test,tree_pred)}')\n",
        "print('\\n \\n')\n",
        "print(f'Accuracy score \\n {accuracy_score(y_test,tree_pred)}')\n",
        "arr.append(accuracy_score(y_test,tree_pred))"
      ],
      "execution_count": 228,
      "outputs": [
        {
          "output_type": "stream",
          "name": "stdout",
          "text": [
            "Confusion matrix \n",
            " [[ 6  5]\n",
            " [ 2 26]]\n",
            "\n",
            " \n",
            "\n",
            "Accuracy score \n",
            " 0.8205128205128205\n"
          ]
        }
      ]
    },
    {
      "cell_type": "markdown",
      "metadata": {
        "id": "6pCIcZmAyseb"
      },
      "source": [
        "### Naive bayes"
      ]
    },
    {
      "cell_type": "code",
      "metadata": {
        "id": "ZkxibyjXyrT5"
      },
      "source": [
        "from sklearn.naive_bayes import GaussianNB\n",
        "naive_clf = GaussianNB()"
      ],
      "execution_count": 229,
      "outputs": []
    },
    {
      "cell_type": "code",
      "metadata": {
        "id": "6KP6nefSzHY3"
      },
      "source": [
        "naive_clf.fit(x_train,y_train)\n",
        "naive_pred = naive_clf.predict(x_test)"
      ],
      "execution_count": 230,
      "outputs": []
    },
    {
      "cell_type": "code",
      "metadata": {
        "colab": {
          "base_uri": "https://localhost:8080/"
        },
        "id": "RjWX-Zz8z5TE",
        "outputId": "00403f0a-a027-4cdd-b15c-63cbb15eba6b"
      },
      "source": [
        "print(f'Confusion matrix \\n {confusion_matrix(y_test,naive_pred)}')\n",
        "print('\\n \\n')\n",
        "print(f'Accuracy score \\n {accuracy_score(y_test,naive_pred)}')\n",
        "arr.append(accuracy_score(y_test,naive_pred))"
      ],
      "execution_count": 231,
      "outputs": [
        {
          "output_type": "stream",
          "name": "stdout",
          "text": [
            "Confusion matrix \n",
            " [[ 6  5]\n",
            " [ 4 24]]\n",
            "\n",
            " \n",
            "\n",
            "Accuracy score \n",
            " 0.7692307692307693\n"
          ]
        }
      ]
    },
    {
      "cell_type": "markdown",
      "metadata": {
        "id": "hCGhpB4V0WKa"
      },
      "source": [
        "### Random forest"
      ]
    },
    {
      "cell_type": "code",
      "metadata": {
        "id": "RoVkRYhq0VJH"
      },
      "source": [
        "from sklearn.ensemble import RandomForestClassifier\n",
        "rand_clf = RandomForestClassifier(max_depth=2, random_state=0)"
      ],
      "execution_count": 232,
      "outputs": []
    },
    {
      "cell_type": "code",
      "metadata": {
        "id": "eqocSUji05PA"
      },
      "source": [
        "rand_clf.fit(x_train,y_train)\n",
        "rand_pred = rand_clf.predict(x_test)"
      ],
      "execution_count": 233,
      "outputs": []
    },
    {
      "cell_type": "code",
      "metadata": {
        "colab": {
          "base_uri": "https://localhost:8080/"
        },
        "id": "Tp8aDInf1UCw",
        "outputId": "0bb87103-3a07-4e58-870b-f18f9b661954"
      },
      "source": [
        "print(f'Confusion matrix \\n {confusion_matrix(y_test,rand_pred)}')\n",
        "print('\\n \\n')\n",
        "print(f'Accuracy score \\n {accuracy_score(y_test,rand_pred)}')\n",
        "arr.append(accuracy_score(y_test,rand_pred))"
      ],
      "execution_count": 234,
      "outputs": [
        {
          "output_type": "stream",
          "name": "stdout",
          "text": [
            "Confusion matrix \n",
            " [[ 5  6]\n",
            " [ 0 28]]\n",
            "\n",
            " \n",
            "\n",
            "Accuracy score \n",
            " 0.8461538461538461\n"
          ]
        }
      ]
    },
    {
      "cell_type": "markdown",
      "metadata": {
        "id": "NjImuQrV1fBJ"
      },
      "source": [
        "### Artificial Neural Networks"
      ]
    },
    {
      "cell_type": "code",
      "metadata": {
        "id": "ki22lUBU1l0M"
      },
      "source": [
        "from tensorflow import keras"
      ],
      "execution_count": 235,
      "outputs": []
    },
    {
      "cell_type": "code",
      "metadata": {
        "id": "IXSDbm-t2CiW"
      },
      "source": [
        "model = keras.models.Sequential()"
      ],
      "execution_count": 236,
      "outputs": []
    },
    {
      "cell_type": "code",
      "metadata": {
        "id": "XJ5lvpvL2SCI"
      },
      "source": [
        "model.add(keras.Input(shape=x_train.shape))\n",
        "model.add(keras.layers.Dense(20,activation='relu'))\n",
        "model.add(keras.layers.Dense(20,activation='relu'))\n",
        "model.add(keras.layers.Dense(1,activation='sigmoid'))"
      ],
      "execution_count": 237,
      "outputs": []
    },
    {
      "cell_type": "code",
      "metadata": {
        "colab": {
          "base_uri": "https://localhost:8080/"
        },
        "id": "0sLmFPlw3Rdy",
        "outputId": "e13bd428-29ef-4caa-b1d2-a2a570b88030"
      },
      "source": [
        "model.summary()"
      ],
      "execution_count": 238,
      "outputs": [
        {
          "output_type": "stream",
          "name": "stdout",
          "text": [
            "Model: \"sequential_4\"\n",
            "_________________________________________________________________\n",
            "Layer (type)                 Output Shape              Param #   \n",
            "=================================================================\n",
            "dense_12 (Dense)             (None, 156, 20)           160       \n",
            "_________________________________________________________________\n",
            "dense_13 (Dense)             (None, 156, 20)           420       \n",
            "_________________________________________________________________\n",
            "dense_14 (Dense)             (None, 156, 1)            21        \n",
            "=================================================================\n",
            "Total params: 601\n",
            "Trainable params: 601\n",
            "Non-trainable params: 0\n",
            "_________________________________________________________________\n"
          ]
        }
      ]
    },
    {
      "cell_type": "code",
      "metadata": {
        "colab": {
          "base_uri": "https://localhost:8080/"
        },
        "id": "12ypWEp23Rjz",
        "outputId": "31f106bf-d317-4814-9e55-aff0f73fa925"
      },
      "source": [
        "model.compile(optimizer='rmsprop',loss=keras.losses.binary_crossentropy,metrics=['accuracy'])\n",
        "model.fit(x_train,y_train,epochs=30)"
      ],
      "execution_count": 239,
      "outputs": [
        {
          "output_type": "stream",
          "name": "stdout",
          "text": [
            "Epoch 1/30\n",
            "WARNING:tensorflow:Model was constructed with shape (None, 156, 7) for input KerasTensor(type_spec=TensorSpec(shape=(None, 156, 7), dtype=tf.float32, name='input_5'), name='input_5', description=\"created by layer 'input_5'\"), but it was called on an input with incompatible shape (None, 7).\n",
            "WARNING:tensorflow:Model was constructed with shape (None, 156, 7) for input KerasTensor(type_spec=TensorSpec(shape=(None, 156, 7), dtype=tf.float32, name='input_5'), name='input_5', description=\"created by layer 'input_5'\"), but it was called on an input with incompatible shape (None, 7).\n",
            "5/5 [==============================] - 1s 3ms/step - loss: 0.7125 - accuracy: 0.5064\n",
            "Epoch 2/30\n",
            "5/5 [==============================] - 0s 3ms/step - loss: 0.6532 - accuracy: 0.6410\n",
            "Epoch 3/30\n",
            "5/5 [==============================] - 0s 3ms/step - loss: 0.6141 - accuracy: 0.6859\n",
            "Epoch 4/30\n",
            "5/5 [==============================] - 0s 3ms/step - loss: 0.5843 - accuracy: 0.7372\n",
            "Epoch 5/30\n",
            "5/5 [==============================] - 0s 3ms/step - loss: 0.5584 - accuracy: 0.7756\n",
            "Epoch 6/30\n",
            "5/5 [==============================] - 0s 3ms/step - loss: 0.5373 - accuracy: 0.8013\n",
            "Epoch 7/30\n",
            "5/5 [==============================] - 0s 4ms/step - loss: 0.5173 - accuracy: 0.8013\n",
            "Epoch 8/30\n",
            "5/5 [==============================] - 0s 4ms/step - loss: 0.4991 - accuracy: 0.8333\n",
            "Epoch 9/30\n",
            "5/5 [==============================] - 0s 3ms/step - loss: 0.4817 - accuracy: 0.8269\n",
            "Epoch 10/30\n",
            "5/5 [==============================] - 0s 3ms/step - loss: 0.4660 - accuracy: 0.8269\n",
            "Epoch 11/30\n",
            "5/5 [==============================] - 0s 3ms/step - loss: 0.4509 - accuracy: 0.8077\n",
            "Epoch 12/30\n",
            "5/5 [==============================] - 0s 3ms/step - loss: 0.4366 - accuracy: 0.8205\n",
            "Epoch 13/30\n",
            "5/5 [==============================] - 0s 3ms/step - loss: 0.4226 - accuracy: 0.8333\n",
            "Epoch 14/30\n",
            "5/5 [==============================] - 0s 3ms/step - loss: 0.4096 - accuracy: 0.8333\n",
            "Epoch 15/30\n",
            "5/5 [==============================] - 0s 4ms/step - loss: 0.3966 - accuracy: 0.8333\n",
            "Epoch 16/30\n",
            "5/5 [==============================] - 0s 3ms/step - loss: 0.3853 - accuracy: 0.8397\n",
            "Epoch 17/30\n",
            "5/5 [==============================] - 0s 3ms/step - loss: 0.3739 - accuracy: 0.8333\n",
            "Epoch 18/30\n",
            "5/5 [==============================] - 0s 3ms/step - loss: 0.3635 - accuracy: 0.8462\n",
            "Epoch 19/30\n",
            "5/5 [==============================] - 0s 3ms/step - loss: 0.3533 - accuracy: 0.8462\n",
            "Epoch 20/30\n",
            "5/5 [==============================] - 0s 3ms/step - loss: 0.3439 - accuracy: 0.8526\n",
            "Epoch 21/30\n",
            "5/5 [==============================] - 0s 3ms/step - loss: 0.3378 - accuracy: 0.8462\n",
            "Epoch 22/30\n",
            "5/5 [==============================] - 0s 3ms/step - loss: 0.3292 - accuracy: 0.8526\n",
            "Epoch 23/30\n",
            "5/5 [==============================] - 0s 3ms/step - loss: 0.3212 - accuracy: 0.8526\n",
            "Epoch 24/30\n",
            "5/5 [==============================] - 0s 3ms/step - loss: 0.3138 - accuracy: 0.8526\n",
            "Epoch 25/30\n",
            "5/5 [==============================] - 0s 3ms/step - loss: 0.3082 - accuracy: 0.8590\n",
            "Epoch 26/30\n",
            "5/5 [==============================] - 0s 3ms/step - loss: 0.3017 - accuracy: 0.8654\n",
            "Epoch 27/30\n",
            "5/5 [==============================] - 0s 3ms/step - loss: 0.2947 - accuracy: 0.8654\n",
            "Epoch 28/30\n",
            "5/5 [==============================] - 0s 3ms/step - loss: 0.2887 - accuracy: 0.8654\n",
            "Epoch 29/30\n",
            "5/5 [==============================] - 0s 3ms/step - loss: 0.2832 - accuracy: 0.8846\n",
            "Epoch 30/30\n",
            "5/5 [==============================] - 0s 3ms/step - loss: 0.2785 - accuracy: 0.8846\n"
          ]
        },
        {
          "output_type": "execute_result",
          "data": {
            "text/plain": [
              "<keras.callbacks.History at 0x7f8ec43fec10>"
            ]
          },
          "metadata": {},
          "execution_count": 239
        }
      ]
    },
    {
      "cell_type": "code",
      "metadata": {
        "colab": {
          "base_uri": "https://localhost:8080/"
        },
        "id": "mrHewPGi53gm",
        "outputId": "50395f06-877f-4afe-edc1-c901bba35d94"
      },
      "source": [
        "ann_pred = []\n",
        "for i in model.predict(x_test):\n",
        "  if(i>0.5):\n",
        "    ann_pred.append(1)\n",
        "  else:\n",
        "    ann_pred.append(0)"
      ],
      "execution_count": 240,
      "outputs": [
        {
          "output_type": "stream",
          "name": "stdout",
          "text": [
            "WARNING:tensorflow:Model was constructed with shape (None, 156, 7) for input KerasTensor(type_spec=TensorSpec(shape=(None, 156, 7), dtype=tf.float32, name='input_5'), name='input_5', description=\"created by layer 'input_5'\"), but it was called on an input with incompatible shape (None, 7).\n",
            "WARNING:tensorflow:5 out of the last 19 calls to <function Model.make_predict_function.<locals>.predict_function at 0x7f8ebdb1def0> triggered tf.function retracing. Tracing is expensive and the excessive number of tracings could be due to (1) creating @tf.function repeatedly in a loop, (2) passing tensors with different shapes, (3) passing Python objects instead of tensors. For (1), please define your @tf.function outside of the loop. For (2), @tf.function has experimental_relax_shapes=True option that relaxes argument shapes that can avoid unnecessary retracing. For (3), please refer to https://www.tensorflow.org/guide/function#controlling_retracing and https://www.tensorflow.org/api_docs/python/tf/function for  more details.\n"
          ]
        }
      ]
    },
    {
      "cell_type": "code",
      "metadata": {
        "colab": {
          "base_uri": "https://localhost:8080/"
        },
        "id": "zj1BIS676-16",
        "outputId": "93ea6586-c62d-4c34-a5cd-0df2bbac3f8e"
      },
      "source": [
        "print(f'Confusion matrix \\n {confusion_matrix(y_test,ann_pred)}')\n",
        "print('\\n \\n')\n",
        "print(f'Accuracy score \\n {accuracy_score(y_test,ann_pred)}')\n",
        "arr.append(accuracy_score(y_test,ann_pred))"
      ],
      "execution_count": 241,
      "outputs": [
        {
          "output_type": "stream",
          "name": "stdout",
          "text": [
            "Confusion matrix \n",
            " [[ 6  5]\n",
            " [ 1 27]]\n",
            "\n",
            " \n",
            "\n",
            "Accuracy score \n",
            " 0.8461538461538461\n"
          ]
        }
      ]
    },
    {
      "cell_type": "code",
      "metadata": {
        "id": "c10T6d7G8t1H"
      },
      "source": [
        "names = ['Logistic','Decision Tree','Naive Bayes','Random Forest','ANN']\n",
        "plt.bar(names,arr)\n",
        "plt.show()"
      ],
      "execution_count": 242,
      "outputs": []
    },
    {
      "cell_type": "code",
      "metadata": {
        "id": "s_Hhi_PB-9qJ"
      },
      "source": [
        ""
      ],
      "execution_count": null,
      "outputs": []
    },
    {
      "cell_type": "code",
      "metadata": {
        "id": "DsGX3Ari_Is_"
      },
      "source": [
        ""
      ],
      "execution_count": null,
      "outputs": []
    },
    {
      "cell_type": "code",
      "metadata": {
        "id": "n1EnY8nv_Ivg"
      },
      "source": [
        ""
      ],
      "execution_count": null,
      "outputs": []
    },
    {
      "cell_type": "markdown",
      "metadata": {
        "id": "teu8k22B_LaB"
      },
      "source": [
        "# Hence Random forest and ann gives best accuracy "
      ]
    },
    {
      "cell_type": "markdown",
      "metadata": {
        "id": "mBfYczwS_UJ0"
      },
      "source": [
        "### We train random without pca "
      ]
    },
    {
      "cell_type": "code",
      "metadata": {
        "id": "l3N7uEJ8_IyO"
      },
      "source": [
        "y = dataset['status']\n",
        "X = dataset.drop('status',axis=1).iloc[:,2:]"
      ],
      "execution_count": 253,
      "outputs": []
    },
    {
      "cell_type": "code",
      "metadata": {
        "id": "xh6mnearAOyq"
      },
      "source": [
        "from sklearn.preprocessing import StandardScaler\n",
        "sc = StandardScaler()\n",
        "X = sc.fit_transform(X)"
      ],
      "execution_count": 254,
      "outputs": []
    },
    {
      "cell_type": "code",
      "metadata": {
        "id": "sX_lMDLGBDGK"
      },
      "source": [
        "x_train, x_test, y_train, y_test= train_test_split(X, y, test_size= 0.20, random_state=50)  "
      ],
      "execution_count": 255,
      "outputs": []
    },
    {
      "cell_type": "code",
      "metadata": {
        "id": "qHwPYkM-AdHw"
      },
      "source": [
        "from sklearn.ensemble import RandomForestClassifier\n",
        "rand_clf = RandomForestClassifier(max_depth=2, random_state=0)\n",
        "rand_clf.fit(x_train,y_train)\n",
        "rand_pred = rand_clf.predict(x_test)"
      ],
      "execution_count": 256,
      "outputs": []
    },
    {
      "cell_type": "code",
      "metadata": {
        "colab": {
          "base_uri": "https://localhost:8080/"
        },
        "id": "TwaEZhd8BU01",
        "outputId": "9ac46d67-c93a-4a88-d0e3-119214411263"
      },
      "source": [
        "print(f'Confusion matrix \\n {confusion_matrix(y_test,rand_pred)}')\n",
        "print('\\n \\n')\n",
        "print(f'Accuracy score \\n {accuracy_score(y_test,rand_pred)}')"
      ],
      "execution_count": 257,
      "outputs": [
        {
          "output_type": "stream",
          "name": "stdout",
          "text": [
            "Confusion matrix \n",
            " [[ 5  6]\n",
            " [ 3 25]]\n",
            "\n",
            " \n",
            "\n",
            "Accuracy score \n",
            " 0.7692307692307693\n"
          ]
        }
      ]
    },
    {
      "cell_type": "markdown",
      "metadata": {
        "id": "1LN0WN4VBcpJ"
      },
      "source": [
        "## **Hence we have prooved model with pca works good comparing to tha model without pca**"
      ]
    },
    {
      "cell_type": "code",
      "metadata": {
        "id": "zmFuOoeyBuL4"
      },
      "source": [
        ""
      ],
      "execution_count": null,
      "outputs": []
    }
  ]
}